{
 "cells": [
  {
   "cell_type": "code",
   "execution_count": 14,
   "id": "1b6f0ae7-c574-4da9-8ed2-01513728be7e",
   "metadata": {},
   "outputs": [],
   "source": [
    "import pandas as pd\n",
    "import os\n",
    "from scipy.io import wavfile\n",
    "from collections import defaultdict as dd"
   ]
  },
  {
   "cell_type": "code",
   "execution_count": 18,
   "id": "fe8ed4fc-4561-4e71-aa1d-8f41e61c7633",
   "metadata": {},
   "outputs": [],
   "source": [
    "base_path = \"/data/user_data/sbharad2/espnet/egs2/clotho_v2/asr1/local/CLOTHO_v2.1/\"\n",
    "splits = ['development', 'evaluation','test','validation']\n",
    "\n",
    "def get_audio_duration(fname):\n",
    "    samplerate, data = wavfile.read(fname)\n",
    "    duration_s = len(data)/samplerate\n",
    "    return duration_s\n",
    "\n",
    "# Audio length\n",
    "audio_s = dd(lambda : [])\n",
    "for split in splits:\n",
    "    for fname in os.listdir(os.path.join(base_path,'clotho_audio_files',split)):\n",
    "        ffname = os.path.join(base_path,'clotho_audio_files',split,fname)\n",
    "        audio_s[split].append(get_audio_duration(ffname))"
   ]
  },
  {
   "cell_type": "code",
   "execution_count": 23,
   "id": "59ea5e97-0f9d-4931-b28c-699513e38318",
   "metadata": {},
   "outputs": [
    {
     "name": "stdout",
     "output_type": "stream",
     "text": [
      "development 30.0 15.0\n",
      "evaluation 30.0 15.003174603174603\n",
      "test 30.0 15.000090702947846\n",
      "validation 29.95390022675737 15.05\n"
     ]
    }
   ],
   "source": [
    "for split in splits:\n",
    "    print(split,max(audio_s[split]),min(audio_s[split]))"
   ]
  },
  {
   "cell_type": "code",
   "execution_count": null,
   "id": "b3884f12-1a4a-41ef-b4c9-e7c99af27086",
   "metadata": {},
   "outputs": [],
   "source": []
  }
 ],
 "metadata": {
  "kernelspec": {
   "display_name": "Python 3 (ipykernel)",
   "language": "python",
   "name": "python3"
  },
  "language_info": {
   "codemirror_mode": {
    "name": "ipython",
    "version": 3
   },
   "file_extension": ".py",
   "mimetype": "text/x-python",
   "name": "python",
   "nbconvert_exporter": "python",
   "pygments_lexer": "ipython3",
   "version": "3.8.19"
  }
 },
 "nbformat": 4,
 "nbformat_minor": 5
}
