{
 "cells": [
  {
   "cell_type": "code",
   "execution_count": null,
   "metadata": {},
   "outputs": [
    {
     "name": "stdout",
     "output_type": "stream",
     "text": [
      "Downloading averaged_perceptron_tagger...\n"
     ]
    }
   ],
   "source": [
    "import nltk\n",
    "\n",
    "# 下载必要的数据包\n",
    "resources = [\n",
    "    'averaged_perceptron_tagger',  # 注意这里没有 _eng 后缀\n",
    "    'punkt',  # 通常也需要这个\n",
    "    'cmudict'  # g2p_en 可能也需要这个\n",
    "]\n",
    "\n",
    "for resource in resources:\n",
    "    print(f\"Downloading {resource}...\")\n",
    "    nltk.download(resource)\n"
   ]
  },
  {
   "cell_type": "code",
   "execution_count": null,
   "metadata": {},
   "outputs": [],
   "source": []
  }
 ],
 "metadata": {
  "kernelspec": {
   "display_name": "espnet",
   "language": "python",
   "name": "python3"
  },
  "language_info": {
   "codemirror_mode": {
    "name": "ipython",
    "version": 3
   },
   "file_extension": ".py",
   "mimetype": "text/x-python",
   "name": "python",
   "nbconvert_exporter": "python",
   "pygments_lexer": "ipython3",
   "version": "3.11.10"
  }
 },
 "nbformat": 4,
 "nbformat_minor": 2
}
